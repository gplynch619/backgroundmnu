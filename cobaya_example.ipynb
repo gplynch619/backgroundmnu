{
 "cells": [
  {
   "cell_type": "code",
   "execution_count": 1,
   "metadata": {},
   "outputs": [
    {
     "name": "stdout",
     "output_type": "stream",
     "text": [
      "Loading data from:  /Users/gabe/projects/backgroundmnu/backgroundmnu/data/P-ACT.pkl\n"
     ]
    }
   ],
   "source": [
    "import os\n",
    "import numpy as np\n",
    "from cobaya.model import get_model\n",
    "from cobaya.yaml import yaml_load\n",
    "import matplotlib.pyplot as plt\n",
    "\n",
    "\n",
    "info_txt = \"\"\"\n",
    "theory:\n",
    "  BackgroundTheory:\n",
    "    external: !!python/name:backgroundmnu.BackgroundTheory ''\n",
    "    extra_args:\n",
    "      Nmassive: 1\n",
    "      mnu_model: symmetric\n",
    "params:\n",
    "  omega_b0:\n",
    "    prior:\n",
    "      min: 0.021\n",
    "      max: 0.024\n",
    "    ref: 0.0224\n",
    "    proposal: 0.0001\n",
    "    latex: \\\\Omega_b h^2\n",
    "  omega_cdm0:\n",
    "    prior:\n",
    "      min: 0.11\n",
    "      max: 0.13\n",
    "    ref: 0.120\n",
    "    proposal: 0.001\n",
    "    latex: \\\\Omega_c h^2\n",
    "  mnu:\n",
    "    prior:\n",
    "      min: 0.01\n",
    "      max: 0.3\n",
    "    ref: 0.06\n",
    "    proposal: 0.01\n",
    "    latex: \\\\sum m_\\\\nu\n",
    "  omega_de0:\n",
    "    prior:\n",
    "      min: 0.0\n",
    "      max: 1.0\n",
    "    ref: 0.31\n",
    "    proposal: 0.01\n",
    "    latex: \\\\Omega_{\\\\Lambda}\n",
    "  h:\n",
    "    latex: h\n",
    "    derived: true\n",
    "  theta_star:\n",
    "    latex: \\\\theta_*\n",
    "    derived: true\n",
    "  rdrag:\n",
    "    latex: r_\\\\mathrm{drag}\n",
    "    derived: true\n",
    "likelihood:\n",
    "    backgroundmnu.BackgroundLikelihood:\n",
    "      external: !!python/name:backgroundmnu.BackgroundLikelihood ''\n",
    "      data_file: P-ACT\n",
    "      mode: 2p\n",
    "\"\"\"\n",
    "\n",
    "\n",
    "info = yaml_load(info_txt)\n",
    "\n",
    "model = get_model(info)"
   ]
  },
  {
   "cell_type": "code",
   "execution_count": 2,
   "metadata": {},
   "outputs": [
    {
     "name": "stderr",
     "output_type": "stream",
     "text": [
      " pyhyrec/Background.py:160: overflow encountered in exp (RuntimeWarning)\n",
      " pyhyrec/_minpack_py.py:177: The iteration is not making good progress, as measured by the \n",
      "  improvement from the last ten iterations. (RuntimeWarning)\n"
     ]
    }
   ],
   "source": [
    "point = dict(zip(model.parameterization.sampled_params(),\n",
    "                 model.prior.sample(ignore_external=True)[0]))\n",
    "\n",
    "point.update({'omega_b0': 0.0223, 'omega_cdm0': 0.120, 'omega_de0': 0.31,\n",
    "              'mnu': 0.06})\n",
    "\n",
    "logposterior = model.logposterior(point, as_dict=True)"
   ]
  },
  {
   "cell_type": "code",
   "execution_count": 3,
   "metadata": {},
   "outputs": [
    {
     "data": {
      "text/plain": [
       "{'logpost': 9.442352427426012,\n",
       " 'logpriors': {'0': 10.959040351743791},\n",
       " 'loglikes': {'backgroundmnu.BackgroundLikelihood': -1.5166879243177798},\n",
       " 'derived': {'h': 0.6730839410765332,\n",
       "  'theta_star': 0.01040755078091386,\n",
       "  'rdrag': 147.14388039079128}}"
      ]
     },
     "execution_count": 3,
     "metadata": {},
     "output_type": "execute_result"
    }
   ],
   "source": [
    "logposterior"
   ]
  },
  {
   "cell_type": "code",
   "execution_count": 4,
   "metadata": {},
   "outputs": [
    {
     "data": {
      "image/png": "[encoded data removed]",
      "text/plain": [
       "<Figure size 640x480 with 1 Axes>"
      ]
     },
     "metadata": {},
     "output_type": "display_data"
    }
   ],
   "source": [
    "redshifts = np.logspace(-3, np.log10(1100), 500)\n",
    "model.add_requirements({\"Hubble\": {\"z\": redshifts}})\n",
    "logposterior = model.logposterior(point, as_dict=True)\n",
    "H = model.provider.get_Hubble(redshifts)\n",
    "\n",
    "\n",
    "fig,ax = plt.subplots()\n",
    "\n",
    "ax.plot(redshifts, H)\n",
    "ax.set_xlabel(\"Redshift\")\n",
    "ax.set_ylabel(\"Hubble parameter\")\n",
    "ax.set_yscale(\"log\")\n",
    "ax.set_xscale(\"log\")"
   ]
  },
  {
   "cell_type": "code",
   "execution_count": null,
   "metadata": {},
   "outputs": [],
   "source": []
  }
 ],
 "metadata": {
  "kernelspec": {
   "display_name": "neg_mnu",
   "language": "python",
   "name": "python3"
  },
  "language_info": {
   "codemirror_mode": {
    "name": "ipython",
    "version": 3
   },
   "file_extension": ".py",
   "mimetype": "text/x-python",
   "name": "python",
   "nbconvert_exporter": "python",
   "pygments_lexer": "ipython3",
   "version": "3.9.19"
  }
 },
 "nbformat": 4,
 "nbformat_minor": 2
}
